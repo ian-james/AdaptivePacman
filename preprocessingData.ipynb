{
  "nbformat": 4,
  "nbformat_minor": 0,
  "metadata": {
    "colab": {
      "name": "preprocessingData.ipynb",
      "provenance": [],
      "collapsed_sections": [],
      "toc_visible": true,
      "include_colab_link": true
    },
    "kernelspec": {
      "name": "python3",
      "display_name": "Python 3"
    }
  },
  "cells": [
    {
      "cell_type": "markdown",
      "metadata": {
        "id": "view-in-github",
        "colab_type": "text"
      },
      "source": [
        "<a href=\"https://colab.research.google.com/github/ian-james/AdaptivePacman/blob/master/preprocessingData.ipynb\" target=\"_parent\"><img src=\"https://colab.research.google.com/assets/colab-badge.svg\" alt=\"Open In Colab\"/></a>"
      ]
    },
    {
      "cell_type": "markdown",
      "metadata": {
        "id": "aUv1cPBm_Vr4",
        "colab_type": "text"
      },
      "source": [
        "# Data Collection\n",
        "\n",
        "\n",
        "\n",
        "\n",
        "\n",
        "\n",
        "\n",
        "\n",
        "\n"
      ]
    },
    {
      "cell_type": "markdown",
      "metadata": {
        "id": "Mv2yLflQFfXx",
        "colab_type": "text"
      },
      "source": [
        "The IFS project collects and stores log data (JSON format) as students interact with the website. The information collected includes but is not limited to their  assignment submissions, returned formative feedback, and usage behavior. Additional detail about data collection will be provided in the upcoming subsections. Additionally, most of the data is collected and stored in a SQL-based database.\n",
        "\n",
        "Data is collected any time a student uses the system. From the moment, they login and begin interacting with IFS events are timestamped and stored.\n",
        "\n",
        "Data collections stops at the end of each university semester for extraction and data analysis. At which point, the data is removed from the server, participant summative scores are connected to their account, and the data is sanitized to provide privacy and safety to participants.\n",
        "\n"
      ]
    },
    {
      "cell_type": "markdown",
      "metadata": {
        "id": "I7UlrVUfE9Uy",
        "colab_type": "text"
      },
      "source": [
        "# Data Sanitization\n"
      ]
    },
    {
      "cell_type": "markdown",
      "metadata": {
        "id": "A4DCbXIyFrnI",
        "colab_type": "text"
      },
      "source": [
        "Data sanitization is a vital step to ensure students privacy and anonymity is maintained after the experiment. The majority of collected data relates to the student usage of the IFS system, ther school assignments, the automated feedback response. While, this type of information is not highly sensitive it is important to protect the participants right to privacy and reduce any potential risks associated with identifiable data. \n",
        "\n",
        "This includes removing participant names, email, personal demographic information, course information, and formative feedback comments. The student's feedback and submissions are anonymized since it can contain identifying information such as their names, student id, or specific comments. \n",
        "\n",
        "The data scripts for sanitization are included at:\n",
        "https://github.com/ian-james/IFS_cleanup_script"
      ]
    },
    {
      "cell_type": "markdown",
      "metadata": {
        "colab_type": "text",
        "id": "nieEl0SrFxkz"
      },
      "source": [
        "# Data Preparation and Cleaning\n",
        "\n",
        "Once the research data has been santitized and annoymized, it can be prepared for analysis. The first stage of preparation is indentifying corrupt data and extending databases tables to include helpful information for further analysis.\n",
        "\n",
        "The data scripts for preparation and cleaning are located at: https://github.com/ian-james/IFS_cleanup_script\n",
        "\n",
        "The result of cleaning and preparation produce CSV style files for further analysis. The CSV (TODO:) will be available in an upcoming public data repository.\n"
      ]
    },
    {
      "cell_type": "markdown",
      "metadata": {
        "colab_type": "text",
        "id": "Kap-dpb4Fxk4"
      },
      "source": [
        ""
      ]
    }
  ]
}