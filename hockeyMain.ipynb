{
  "nbformat": 4,
  "nbformat_minor": 0,
  "metadata": {
    "colab": {
      "name": "hockeyMain.ipynb",
      "provenance": [],
      "collapsed_sections": [],
      "include_colab_link": true
    },
    "kernelspec": {
      "name": "python3",
      "display_name": "Python 3"
    }
  },
  "cells": [
    {
      "cell_type": "markdown",
      "metadata": {
        "id": "view-in-github",
        "colab_type": "text"
      },
      "source": [
        "<a href=\"https://colab.research.google.com/github/ian-james/AdaptivePacman/blob/master/hockeyMain.ipynb\" target=\"_parent\"><img src=\"https://colab.research.google.com/assets/colab-badge.svg\" alt=\"Open In Colab\"/></a>"
      ]
    },
    {
      "cell_type": "code",
      "metadata": {
        "id": "GZ91pqZSEjHM",
        "colab_type": "code",
        "colab": {}
      },
      "source": [
        "!pip install --upgrade --quiet gspread\n"
      ],
      "execution_count": 0,
      "outputs": []
    },
    {
      "cell_type": "markdown",
      "metadata": {
        "id": "Z9k9VkoQEm6a",
        "colab_type": "text"
      },
      "source": [
        "Open up the documents"
      ]
    },
    {
      "cell_type": "code",
      "metadata": {
        "id": "dBpljZp7HTWu",
        "colab_type": "code",
        "colab": {
          "base_uri": "https://localhost:8080/",
          "height": 168
        },
        "outputId": "f37632a6-2476-4fa4-ba43-ca593d787433"
      },
      "source": [
        "from google.colab import auth\n",
        "auth.authenticate_user()\n",
        "\n",
        "from __future__ import print_function\n",
        "import pandas as pd\n",
        "pd.__version__\n",
        "\n",
        "import gspread\n",
        "from oauth2client.client import GoogleCredentials\n",
        "\n",
        "gc = gspread.authorize(GoogleCredentials.get_application_default())\n",
        "\n",
        "worksheet = gc.open(\"hockey2018-2019\").sheet1\n",
        "\n",
        "data = worksheet.get_all_values()\n",
        "headers = data.pop(0)\n",
        "\n",
        "# Convert to the data video\n",
        "df = pd.DataFrame(data, columns=headers)\n",
        "\n",
        "print(df.head() )"
      ],
      "execution_count": 14,
      "outputs": [
        {
          "output_type": "stream",
          "text": [
            "['Date', 'Visitor', 'G', 'Home', 'G', 'OT']\n",
            "The google.colab.data_table extension is already loaded. To reload it, use:\n",
            "  %reload_ext google.colab.data_table\n",
            "         Date             Visitor  G                 Home  G  OT\n",
            "0  2018-10-03       Anaheim Ducks  5      San Jose Sharks  2    \n",
            "1  2018-10-03  Montreal Canadiens  2  Toronto Maple Leafs  3  OT\n",
            "2  2018-10-03      Calgary Flames  2    Vancouver Canucks  5    \n",
            "3  2018-10-03       Boston Bruins  0  Washington Capitals  7    \n",
            "4  2018-10-04       Boston Bruins  4       Buffalo Sabres  0    \n"
          ],
          "name": "stdout"
        }
      ]
    },
    {
      "cell_type": "code",
      "metadata": {
        "id": "y58RIaLkR7-H",
        "colab_type": "code",
        "colab": {
          "base_uri": "https://localhost:8080/",
          "height": 420
        },
        "outputId": "6ed242a7-8da7-4faa-c7cb-776fdd020a15"
      },
      "source": [
        "# %load_ext google.colab.data_table\n",
        "print(df)\n",
        "print(\"*******************************************************\")\n",
        "df.describe()\n",
        "\n",
        "# %unload_ext google.colab.data_table"
      ],
      "execution_count": 17,
      "outputs": [
        {
          "output_type": "stream",
          "text": [
            "            Date              Visitor  G                 Home  G  OT\n",
            "0     2018-10-03        Anaheim Ducks  5      San Jose Sharks  2    \n",
            "1     2018-10-03   Montreal Canadiens  2  Toronto Maple Leafs  3  OT\n",
            "2     2018-10-03       Calgary Flames  2    Vancouver Canucks  5    \n",
            "3     2018-10-03        Boston Bruins  0  Washington Capitals  7    \n",
            "4     2018-10-04        Boston Bruins  4       Buffalo Sabres  0    \n",
            "...          ...                  ... ..                  ... ..  ..\n",
            "1266  2019-04-06  Carolina Hurricanes  4  Philadelphia Flyers  3    \n",
            "1267  2019-04-06     New York Rangers  4  Pittsburgh Penguins  3  OT\n",
            "1268  2019-04-06   Colorado Avalanche  2      San Jose Sharks  5    \n",
            "1269  2019-04-06    Vancouver Canucks  2      St. Louis Blues  3  SO\n",
            "1270  2019-04-06   New York Islanders  3  Washington Capitals  0    \n",
            "\n",
            "[1271 rows x 6 columns]\n",
            "*******************************************************\n"
          ],
          "name": "stdout"
        },
        {
          "output_type": "execute_result",
          "data": {
            "application/vnd.google.colaboratory.module+javascript": "\n      import \"https://ssl.gstatic.com/colaboratory/data_table/9e554b27bdd509f3/data_table.js\";\n\n      window.createDataTable({\n        data: [[\"count\",\n1271,\n1271,\n1271,\n1271,\n1271,\n1271],\n [\"unique\",\n177,\n31,\n10,\n31,\n10,\n3],\n [\"top\",\n\"2018-11-23\",\n\"San Jose Sharks\",\n\"3\",\n\"San Jose Sharks\",\n\"3\",\n\"\"],\n [\"freq\",\n15,\n41,\n285,\n41,\n261,\n1000]],\n        columns: [[\"string\", \"index\"], [\"string\", \"Date\"], [\"string\", \"Visitor\"], [\"string\", \"G\"], [\"string\", \"Home\"], [\"string\", \"G\"], [\"string\", \"OT\"]],\n        columnOptions: [{\"width\": \"1px\", \"className\": \"index_column\"}],\n        rowsPerPage: 25,\n        helpUrl: \"https://colab.research.google.com/notebooks/data_table.ipynb\",\n      });\n    ",
            "text/html": [
              "<div>\n",
              "<style scoped>\n",
              "    .dataframe tbody tr th:only-of-type {\n",
              "        vertical-align: middle;\n",
              "    }\n",
              "\n",
              "    .dataframe tbody tr th {\n",
              "        vertical-align: top;\n",
              "    }\n",
              "\n",
              "    .dataframe thead th {\n",
              "        text-align: right;\n",
              "    }\n",
              "</style>\n",
              "<table border=\"1\" class=\"dataframe\">\n",
              "  <thead>\n",
              "    <tr style=\"text-align: right;\">\n",
              "      <th></th>\n",
              "      <th>Date</th>\n",
              "      <th>Visitor</th>\n",
              "      <th>G</th>\n",
              "      <th>Home</th>\n",
              "      <th>G</th>\n",
              "      <th>OT</th>\n",
              "    </tr>\n",
              "  </thead>\n",
              "  <tbody>\n",
              "    <tr>\n",
              "      <th>count</th>\n",
              "      <td>1271</td>\n",
              "      <td>1271</td>\n",
              "      <td>1271</td>\n",
              "      <td>1271</td>\n",
              "      <td>1271</td>\n",
              "      <td>1271</td>\n",
              "    </tr>\n",
              "    <tr>\n",
              "      <th>unique</th>\n",
              "      <td>177</td>\n",
              "      <td>31</td>\n",
              "      <td>10</td>\n",
              "      <td>31</td>\n",
              "      <td>10</td>\n",
              "      <td>3</td>\n",
              "    </tr>\n",
              "    <tr>\n",
              "      <th>top</th>\n",
              "      <td>2018-11-23</td>\n",
              "      <td>San Jose Sharks</td>\n",
              "      <td>3</td>\n",
              "      <td>San Jose Sharks</td>\n",
              "      <td>3</td>\n",
              "      <td></td>\n",
              "    </tr>\n",
              "    <tr>\n",
              "      <th>freq</th>\n",
              "      <td>15</td>\n",
              "      <td>41</td>\n",
              "      <td>285</td>\n",
              "      <td>41</td>\n",
              "      <td>261</td>\n",
              "      <td>1000</td>\n",
              "    </tr>\n",
              "  </tbody>\n",
              "</table>\n",
              "</div>"
            ],
            "text/plain": [
              "              Date          Visitor     G             Home     G    OT\n",
              "count         1271             1271  1271             1271  1271  1271\n",
              "unique         177               31    10               31    10     3\n",
              "top     2018-11-23  San Jose Sharks     3  San Jose Sharks     3      \n",
              "freq            15               41   285               41   261  1000"
            ]
          },
          "metadata": {
            "tags": []
          },
          "execution_count": 17
        }
      ]
    },
    {
      "cell_type": "code",
      "metadata": {
        "id": "KT4N6gOeU2KX",
        "colab_type": "code",
        "colab": {}
      },
      "source": [
        "import math\n",
        "\n",
        "from IPython import display\n",
        "from matplotlib import cm\n",
        "from matplotlib import gridspec\n",
        "from matplotlib import pyplot as plt\n",
        "\n",
        "import numpy as np\n",
        "from sklearn import metrics\n",
        "%tensorflow_version 1.x\n",
        "import tensorflow as tf\n",
        "from tensorflow.python.data import Dataset\n",
        "\n",
        "tf.logging.set_verbosity(tf.logging.ERROR)\n",
        "pd.options.display.max_rows = 10\n",
        "pd.options.display.float_format = '{:.1f}'.format"
      ],
      "execution_count": 0,
      "outputs": []
    }
  ]
}